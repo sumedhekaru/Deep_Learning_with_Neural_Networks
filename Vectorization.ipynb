{
  "nbformat": 4,
  "nbformat_minor": 0,
  "metadata": {
    "colab": {
      "name": "Vectorization.ipynb",
      "provenance": [],
      "collapsed_sections": [],
      "authorship_tag": "ABX9TyMVqnHjXHc8LMdIq5kxKou8",
      "include_colab_link": true
    },
    "kernelspec": {
      "name": "python3",
      "display_name": "Python 3"
    }
  },
  "cells": [
    {
      "cell_type": "markdown",
      "metadata": {
        "id": "view-in-github",
        "colab_type": "text"
      },
      "source": [
        "<a href=\"https://colab.research.google.com/github/sumedhekaru/Deep_Learning_with_Neural_Networks/blob/master/Vectorization.ipynb\" target=\"_parent\"><img src=\"https://colab.research.google.com/assets/colab-badge.svg\" alt=\"Open In Colab\"/></a>"
      ]
    },
    {
      "cell_type": "code",
      "metadata": {
        "id": "b6UXLTJoX5Cr",
        "colab_type": "code",
        "colab": {}
      },
      "source": [
        "import numpy as np"
      ],
      "execution_count": 0,
      "outputs": []
    },
    {
      "cell_type": "code",
      "metadata": {
        "id": "VuFKeCD6YDHq",
        "colab_type": "code",
        "colab": {
          "base_uri": "https://localhost:8080/",
          "height": 34
        },
        "outputId": "e17f8734-fdd7-4a4c-d597-879e1c8b4100"
      },
      "source": [
        "a = np.array([1,2,3])\n",
        "print(a)"
      ],
      "execution_count": 2,
      "outputs": [
        {
          "output_type": "stream",
          "text": [
            "[1 2 3]\n"
          ],
          "name": "stdout"
        }
      ]
    },
    {
      "cell_type": "code",
      "metadata": {
        "id": "_xUvbM5_YI4L",
        "colab_type": "code",
        "colab": {}
      },
      "source": [
        "import time\n",
        "a = np.random.rand(1000000)\n",
        "b = np.random.rand(1000000)"
      ],
      "execution_count": 0,
      "outputs": []
    },
    {
      "cell_type": "markdown",
      "metadata": {
        "id": "jmceEmE4Z7ZY",
        "colab_type": "text"
      },
      "source": [
        "Note that vector calculations are significantly fast.\n"
      ]
    },
    {
      "cell_type": "code",
      "metadata": {
        "id": "ZOiNq_INYSdh",
        "colab_type": "code",
        "colab": {
          "base_uri": "https://localhost:8080/",
          "height": 51
        },
        "outputId": "270af14e-3be9-4f6e-c2e4-b2915ec1fa3b"
      },
      "source": [
        "tic = time.time()\n",
        "c = np.dot(a,b)\n",
        "toc = time.time()\n",
        "print(c)\n",
        "\n",
        "print('Time = %.1f ms' %((toc-tic)*1000))"
      ],
      "execution_count": 14,
      "outputs": [
        {
          "output_type": "stream",
          "text": [
            "250154.3697191936\n",
            "Time = 4.7 ms\n"
          ],
          "name": "stdout"
        }
      ]
    },
    {
      "cell_type": "markdown",
      "metadata": {
        "id": "luFYXWGOZ4kv",
        "colab_type": "text"
      },
      "source": [
        "Note that for loop take a long time"
      ]
    },
    {
      "cell_type": "code",
      "metadata": {
        "id": "GZwVFy6AYfYU",
        "colab_type": "code",
        "colab": {
          "base_uri": "https://localhost:8080/",
          "height": 51
        },
        "outputId": "c5be095b-f177-4f54-fbd8-6ab418f586d7"
      },
      "source": [
        "c = 0\n",
        "tic = time.time()\n",
        "\n",
        "for i in range(len(a)):\n",
        "  c += a[i]*b[i]\n",
        "\n",
        "toc = time.time()\n",
        "\n",
        "print(c)\n",
        "print('Time = %.1f ms' %((toc-tic)*1000))\n"
      ],
      "execution_count": 13,
      "outputs": [
        {
          "output_type": "stream",
          "text": [
            "250154.36971920042\n",
            "Time = 582.2 ms\n"
          ],
          "name": "stdout"
        }
      ]
    },
    {
      "cell_type": "code",
      "metadata": {
        "id": "wMLF4fFOZGbF",
        "colab_type": "code",
        "colab": {}
      },
      "source": [
        ""
      ],
      "execution_count": 0,
      "outputs": []
    }
  ]
}